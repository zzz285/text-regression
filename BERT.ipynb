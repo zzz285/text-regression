{
 "cells": [
  {
   "cell_type": "code",
   "execution_count": 1,
   "metadata": {},
   "outputs": [],
   "source": [
    "import pandas as pd\n",
    "import os\n",
    "import nltk\n",
    "from nltk.corpus import stopwords\n",
    "import string"
   ]
  },
  {
   "cell_type": "code",
   "execution_count": null,
   "metadata": {},
   "outputs": [],
   "source": [
    "# This code is used for the comparison between different models.\n",
    "# using data from 1996 and 1997"
   ]
  },
  {
   "cell_type": "code",
   "execution_count": 132,
   "metadata": {},
   "outputs": [
    {
     "name": "stderr",
     "output_type": "stream",
     "text": [
      "[nltk_data] Downloading package stopwords to\n",
      "[nltk_data]     C:\\Users\\zzz\\AppData\\Roaming\\nltk_data...\n",
      "[nltk_data]   Package stopwords is already up-to-date!\n"
     ]
    }
   ],
   "source": [
    "# download the stopwords\n",
    "nltk.download('stopwords')\n",
    "stop_words = set(stopwords.words('english'))"
   ]
  },
  {
   "cell_type": "code",
   "execution_count": 7,
   "metadata": {},
   "outputs": [],
   "source": [
    "trainX=[]\n",
    "testX=[]"
   ]
  },
  {
   "cell_type": "code",
   "execution_count": 2,
   "metadata": {},
   "outputs": [],
   "source": [
    "# this table contains the stock log volatility of 1996 and 1997 and related company index\n",
    "same=pd.read_csv('logvol/9697same.csv')"
   ]
  },
  {
   "cell_type": "code",
   "execution_count": 5,
   "metadata": {},
   "outputs": [],
   "source": [
    "data96_index=same['1'].tolist() # the company index of 1996\n",
    "data97_index=same['3'].tolist() # the company index of 1997"
   ]
  },
  {
   "cell_type": "code",
   "execution_count": 3,
   "metadata": {},
   "outputs": [],
   "source": [
    "folder_path96='origin/1996'\n",
    "folder_path97='origin/1997'"
   ]
  },
  {
   "cell_type": "code",
   "execution_count": 8,
   "metadata": {},
   "outputs": [],
   "source": [
    "# read the data from 1996\n",
    "for file_name in data96_index:\n",
    "    file_path = os.path.join(folder_path96, file_name+'.mda')\n",
    "    if os.path.isfile(file_path):\n",
    "        with open(file_path, 'r', encoding='utf-8') as file:\n",
    "            content = file.read()\n",
    "            trainX.append(content)"
   ]
  },
  {
   "cell_type": "code",
   "execution_count": null,
   "metadata": {},
   "outputs": [],
   "source": [
    "# read the data from 1997\n",
    "for file_name in data97_index:\n",
    "    file_path = os.path.join(folder_path97, file_name+'.mda')\n",
    "    if os.path.isfile(file_path):\n",
    "        with open(file_path, 'r', encoding='utf-8') as file:\n",
    "            content = file.read()\n",
    "            testX.append(content)"
   ]
  },
  {
   "cell_type": "code",
   "execution_count": 139,
   "metadata": {},
   "outputs": [
    {
     "data": {
      "text/plain": [
       "(997, 997)"
      ]
     },
     "execution_count": 139,
     "metadata": {},
     "output_type": "execute_result"
    }
   ],
   "source": [
    "len(trainX),len(testX)"
   ]
  },
  {
   "cell_type": "code",
   "execution_count": null,
   "metadata": {},
   "outputs": [],
   "source": [
    "train_X=same['1996-12'].tolist() # the stock log volatility of preceding year of 1996\n",
    "test_X=same['1997-12'].tolist()\n",
    "trainY=same['1996+12'].tolist()\n",
    "testY=same['1997+12'].tolist()"
   ]
  },
  {
   "cell_type": "code",
   "execution_count": 141,
   "metadata": {},
   "outputs": [
    {
     "data": {
      "text/plain": [
       "(997, 997)"
      ]
     },
     "execution_count": 141,
     "metadata": {},
     "output_type": "execute_result"
    }
   ],
   "source": [
    "len(trainY),len(testY)"
   ]
  },
  {
   "cell_type": "code",
   "execution_count": 142,
   "metadata": {},
   "outputs": [],
   "source": [
    "def preprocess_text(text):\n",
    "    text = text.translate(str.maketrans('', '', string.punctuation))\n",
    "    words = text.split()\n",
    "    words = [word for word in words if word.lower() not in stop_words]\n",
    "    return ' '.join(words)"
   ]
  },
  {
   "cell_type": "code",
   "execution_count": 143,
   "metadata": {},
   "outputs": [],
   "source": [
    "trainX = [preprocess_text(text) for text in trainX]\n",
    "testX = [preprocess_text(text) for text in testX]"
   ]
  },
  {
   "cell_type": "code",
   "execution_count": 144,
   "metadata": {},
   "outputs": [
    {
     "name": "stdout",
     "output_type": "stream",
     "text": [
      "Using device: cuda\n"
     ]
    }
   ],
   "source": [
    "import torch\n",
    "\n",
    "device = torch.device(\"cuda\" if torch.cuda.is_available() else \"cpu\")\n",
    "print(f\"Using device: {device}\")"
   ]
  },
  {
   "cell_type": "code",
   "execution_count": 145,
   "metadata": {},
   "outputs": [],
   "source": [
    "import torch.nn as nn\n",
    "from torch.utils.data import Dataset, DataLoader\n",
    "from transformers import AdamW"
   ]
  },
  {
   "cell_type": "code",
   "execution_count": null,
   "metadata": {},
   "outputs": [],
   "source": [
    "from transformers import AutoModel, AutoTokenizer\n",
    "\n",
    "model_name = \"distilbert-base-uncased\" \n",
    "# distilbert-base-uncased contains amlost all functions of bert-base-uncased but with fewer parameters\n",
    "tokenizer = AutoTokenizer.from_pretrained(model_name)\n",
    "base_model = AutoModel.from_pretrained(model_name)"
   ]
  },
  {
   "cell_type": "code",
   "execution_count": 147,
   "metadata": {},
   "outputs": [],
   "source": [
    "class EarlyStopping:\n",
    "    def __init__(self, patience=10):\n",
    "        self.patience = patience\n",
    "        \n",
    "        self.best_score = None\n",
    "        self.counter = 0\n",
    "        \n",
    "    def __call__(self, val_loss):\n",
    "        if self.best_score is None:\n",
    "            self.best_score = val_loss\n",
    "        elif val_loss > self.best_score:\n",
    "            self.counter += 1\n",
    "            if self.counter >= self.patience:\n",
    "                return True\n",
    "        else:\n",
    "            self.best_score = val_loss\n",
    "            self.counter = 0\n",
    "        return False                        "
   ]
  },
  {
   "cell_type": "code",
   "execution_count": 148,
   "metadata": {},
   "outputs": [],
   "source": [
    "class TransformerRegressor(nn.Module):\n",
    "    def __init__(self, base_model):  \n",
    "        super().__init__()\n",
    "        self.base = base_model\n",
    "        self.regressor = nn.Linear(base_model.config.hidden_size+1, 1)\n",
    "        self.to(device)\n",
    "\n",
    "    def forward(self, input_ids, attention_mask, features):\n",
    "        input_ids = input_ids.to(device)\n",
    "        attention_mask = attention_mask.to(device)\n",
    "        features = features.to(device).unsqueeze(1)\n",
    "        outputs = self.base(input_ids, attention_mask=attention_mask)\n",
    "        pooled_output = outputs.last_hidden_state[:, 0, :]\n",
    "        combined_output = torch.cat((pooled_output, features), dim=1)\n",
    "        return self.regressor(combined_output)\n"
   ]
  },
  {
   "cell_type": "code",
   "execution_count": 149,
   "metadata": {},
   "outputs": [],
   "source": [
    "class TextDataset(Dataset):\n",
    "    def __init__(self, texts, features, labels, tokenizer, max_length):\n",
    "        self.encodings = tokenizer(texts, truncation=True, padding=True, max_length=max_length)\n",
    "        self.features = features\n",
    "        self.labels = labels\n",
    "\n",
    "    def __getitem__(self, idx):\n",
    "        return {\n",
    "            \"input_ids\": torch.tensor(self.encodings[\"input_ids\"][idx]).to(device),\n",
    "            \"attention_mask\": torch.tensor(self.encodings[\"attention_mask\"][idx]).to(device),\n",
    "            \"features\": torch.tensor(self.features[idx], dtype=torch.float).to(device),\n",
    "            \"labels\": torch.tensor(self.labels[idx], dtype=torch.float).to(device)\n",
    "        }\n",
    "   \n",
    "    def __len__(self):\n",
    "        return len(self.labels) "
   ]
  },
  {
   "cell_type": "code",
   "execution_count": 150,
   "metadata": {},
   "outputs": [
    {
     "name": "stderr",
     "output_type": "stream",
     "text": [
      "c:\\python\\Lib\\site-packages\\transformers\\optimization.py:640: FutureWarning: This implementation of AdamW is deprecated and will be removed in a future version. Use the PyTorch implementation torch.optim.AdamW instead, or set `no_deprecation_warning=True` to disable this warning\n",
      "  warnings.warn(\n"
     ]
    }
   ],
   "source": [
    "model = TransformerRegressor(base_model).to(device)\n",
    "optimizer = AdamW(filter(lambda p: p.requires_grad, model.parameters()), \n",
    "                lr=5e-5)\n",
    "criterion = nn.MSELoss()"
   ]
  },
  {
   "cell_type": "code",
   "execution_count": 151,
   "metadata": {},
   "outputs": [],
   "source": [
    "dataset = TextDataset(trainX, train_X, trainY, tokenizer, max_length=512)\n",
    "dataloader = DataLoader(dataset, batch_size=16, shuffle=True)"
   ]
  },
  {
   "cell_type": "code",
   "execution_count": 152,
   "metadata": {},
   "outputs": [],
   "source": [
    "early_stopping = EarlyStopping(patience=10)"
   ]
  },
  {
   "cell_type": "code",
   "execution_count": null,
   "metadata": {},
   "outputs": [
    {
     "name": "stdout",
     "output_type": "stream",
     "text": [
      "Epoch 0, Loss: 0.07373645901679993\n",
      "Epoch 1, Loss: 0.3753010928630829\n",
      "Epoch 2, Loss: 0.19525334239006042\n",
      "Epoch 3, Loss: 0.45261621475219727\n",
      "Epoch 4, Loss: 0.21517781913280487\n",
      "Epoch 5, Loss: 0.14003035426139832\n",
      "Epoch 6, Loss: 0.026722243055701256\n",
      "Epoch 7, Loss: 0.03200840577483177\n",
      "Epoch 8, Loss: 0.012472349219024181\n",
      "Epoch 9, Loss: 0.012616624124348164\n",
      "Epoch 10, Loss: 0.02600136399269104\n",
      "Epoch 11, Loss: 0.004939985927194357\n",
      "Epoch 12, Loss: 0.03155200555920601\n",
      "Epoch 13, Loss: 0.0035327679943293333\n",
      "Epoch 14, Loss: 0.01031049806624651\n",
      "Epoch 15, Loss: 0.005409530829638243\n",
      "Epoch 16, Loss: 0.008338897489011288\n",
      "Epoch 17, Loss: 0.006625916343182325\n",
      "Epoch 18, Loss: 0.00439546350389719\n",
      "Epoch 19, Loss: 0.009470946155488491\n"
     ]
    }
   ],
   "source": [
    "model.train()\n",
    "\n",
    "for epoch in range(20):\n",
    "    \n",
    "    for batch in dataloader: \n",
    "        optimizer.zero_grad()\n",
    "        outputs = model(batch[\"input_ids\"], batch[\"attention_mask\"], batch[\"features\"])\n",
    "        loss = criterion(outputs.squeeze(), batch[\"labels\"])\n",
    "        \n",
    "        loss.backward()\n",
    "        optimizer.step()  \n",
    "    \n",
    "    print(f\"Epoch {epoch}, Loss: {loss.item()}\")\n"
   ]
  },
  {
   "cell_type": "code",
   "execution_count": 154,
   "metadata": {},
   "outputs": [],
   "source": [
    "#---------------------------------------------------------------------------"
   ]
  },
  {
   "cell_type": "code",
   "execution_count": 155,
   "metadata": {},
   "outputs": [],
   "source": [
    "def predict(texts, features, batch_size=16):\n",
    "    model.eval()\n",
    "    predictions = []\n",
    "    \n",
    "    for i in range(0, len(texts), batch_size):\n",
    "        batch_texts = texts[i:i+batch_size]\n",
    "        batch_features = features[i:i+batch_size]\n",
    "        \n",
    "        inputs = tokenizer(\n",
    "            batch_texts, \n",
    "            return_tensors=\"pt\", \n",
    "            truncation=True, \n",
    "            max_length=512, \n",
    "            padding=True  \n",
    "        )\n",
    "        inputs.pop(\"token_type_ids\", None)  \n",
    "        inputs = {k: v.to(device) for k, v in inputs.items()}\n",
    "        batch_features = torch.tensor(batch_features, dtype=torch.float).to(device)\n",
    "        with torch.no_grad():\n",
    "            outputs = model(**inputs\n",
    "                            ,features=batch_features\n",
    "                            )\n",
    "        predictions.extend(outputs.squeeze().cpu().tolist())  \n",
    "    return predictions  "
   ]
  },
  {
   "cell_type": "code",
   "execution_count": 156,
   "metadata": {},
   "outputs": [],
   "source": [
    "predictions = predict(testX,test_X)  "
   ]
  },
  {
   "cell_type": "code",
   "execution_count": 157,
   "metadata": {},
   "outputs": [],
   "source": [
    "torch.cuda.empty_cache()"
   ]
  },
  {
   "cell_type": "code",
   "execution_count": 158,
   "metadata": {},
   "outputs": [],
   "source": [
    "from sklearn.metrics import mean_squared_error, r2_score"
   ]
  },
  {
   "cell_type": "code",
   "execution_count": 159,
   "metadata": {},
   "outputs": [
    {
     "name": "stdout",
     "output_type": "stream",
     "text": [
      "Mean Squared Error: 0.16201278283325635\n",
      "R² Score: 0.5677439045532094\n"
     ]
    }
   ],
   "source": [
    "mse=mean_squared_error(testY, predictions)\n",
    "print('Mean Squared Error:', mse)\n",
    "\n",
    "r2 = r2_score(testY, predictions)\n",
    "print(f'R² Score: {r2}')"
   ]
  }
 ],
 "metadata": {
  "kernelspec": {
   "display_name": "Python 3",
   "language": "python",
   "name": "python3"
  },
  "language_info": {
   "codemirror_mode": {
    "name": "ipython",
    "version": 3
   },
   "file_extension": ".py",
   "mimetype": "text/x-python",
   "name": "python",
   "nbconvert_exporter": "python",
   "pygments_lexer": "ipython3",
   "version": "3.11.8"
  }
 },
 "nbformat": 4,
 "nbformat_minor": 2
}
